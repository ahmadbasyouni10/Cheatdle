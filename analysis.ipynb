{
 "cells": [
  {
   "cell_type": "code",
   "execution_count": null,
   "metadata": {},
   "outputs": [
    {
     "name": "stdout",
     "output_type": "stream",
     "text": [
      "Requirement already satisfied: textblob in /Users/ahmadbasyouni/anaconda3/lib/python3.11/site-packages (0.18.0.post0)\n",
      "Requirement already satisfied: nltk>=3.8 in /Users/ahmadbasyouni/anaconda3/lib/python3.11/site-packages (from textblob) (3.8.1)\n",
      "Requirement already satisfied: click in /Users/ahmadbasyouni/anaconda3/lib/python3.11/site-packages (from nltk>=3.8->textblob) (8.1.7)\n",
      "Requirement already satisfied: joblib in /Users/ahmadbasyouni/anaconda3/lib/python3.11/site-packages (from nltk>=3.8->textblob) (1.4.2)\n",
      "Requirement already satisfied: regex>=2021.8.3 in /Users/ahmadbasyouni/anaconda3/lib/python3.11/site-packages (from nltk>=3.8->textblob) (2023.10.3)\n",
      "Requirement already satisfied: tqdm in /Users/ahmadbasyouni/anaconda3/lib/python3.11/site-packages (from nltk>=3.8->textblob) (4.66.4)\n",
      "Note: you may need to restart the kernel to use updated packages.\n",
      "Words dataset shape: (12972, 3)\n",
      "Tweets dataset shape: (1178454, 5)\n",
      "Analyzing tweets...\n",
      "\n",
      "Results for 'cacao' (Wordle #373):\n",
      "Total Tweets Analyzed: 341\n",
      "Average Sentiment: 😊 Positive (0.009)\n",
      "Sentiment Breakdown: {'positive': 53, 'neutral': 239, 'negative': 49}\n"
     ]
    }
   ],
   "source": [
    "# Import necessary libraries\n",
    "import pandas as pd\n",
    "%pip install textblob\n",
    "from textblob import TextBlob\n",
    "# Load datasets\n",
    "# Load the datasets\n",
    "try:\n",
    "    words_freq = pd.read_csv(\"data/words_freq.csv\")\n",
    "    tweets = pd.read_csv(\"data/tweeets.csv\")\n",
    "    print(f\"Words dataset shape: {words_freq.shape}\")\n",
    "    print(f\"Tweets dataset shape: {tweets.shape}\")\n",
    "except FileNotFoundError as e:\n",
    "    print(f\"Error: {e}. Ensure the file paths are correct.\")\n",
    "    exit()\n",
    "\n",
    "# Input Wordle word for sentiment analysis\n",
    "word = input(\"Enter a Wordle word for sentiment analysis (5 letters): \").lower()\n",
    "\n",
    "# Validate the word\n",
    "if not word.isalpha() or len(word) != 5:\n",
    "    print(\"Error: Please enter a valid 5-letter word using alphabetic characters.\")\n",
    "    exit()\n",
    "                                                                                  \n",
    "# Check if the word exists in the words_freq dataset\n",
    "word_entry = words_freq[words_freq[\"word\"].str.lower() == word]\n",
    "\n",
    "if word_entry.empty:\n",
    "    print(f\"The word '{word}' was not found in the dataset.\")\n",
    "    exit()\n",
    "\n",
    "# Get Wordle day and filter tweets\n",
    "wordle_day = int(word_entry.iloc[0][\"day\"])\n",
    "wordle_tweets = tweets[tweets[\"wordle_id\"] == wordle_day]\n",
    "\n",
    "if wordle_tweets.empty:\n",
    "    print(f\"No tweets found for Wordle #{wordle_day}.\")\n",
    "    exit()\n",
    "\n",
    "# Analyze sentiment\n",
    "print(\"Analyzing tweets...\")\n",
    "sentiments = {\"positive\": 0, \"neutral\": 0, \"negative\": 0}\n",
    "polarity_scores = []"
   ]
  }
 ],
 "metadata": {
  "kernelspec": {
   "display_name": "Python 3",
   "language": "python",
   "name": "python3"
  },
  "language_info": {
   "codemirror_mode": {
    "name": "ipython",
    "version": 3
   },
   "file_extension": ".py",
   "mimetype": "text/x-python",
   "name": "python",
   "nbconvert_exporter": "python",
   "pygments_lexer": "ipython3",
   "version": "3.11.9"
  }
 },
 "nbformat": 4,
 "nbformat_minor": 2
}
