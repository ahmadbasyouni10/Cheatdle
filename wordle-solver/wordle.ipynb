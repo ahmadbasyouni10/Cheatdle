{
 "cells": [
  {
   "cell_type": "markdown",
   "id": "b401e2ac-cf63-4fb0-b928-83ce3413c4a2",
   "metadata": {},
   "source": [
    "## Wordle Python implementation\n",
    "Ahmad Basyouni, Alysa Vega, Miguel Luna"
   ]
  },
  {
   "cell_type": "code",
   "execution_count": 25,
   "id": "0b066e79-ac28-4011-9b15-52978fb9ae2a",
   "metadata": {},
   "outputs": [],
   "source": [
    "import pandas as pd\n",
    "import numpy as np\n",
    "from collections import Counter"
   ]
  },
  {
   "cell_type": "code",
   "execution_count": 14,
   "id": "76be09a4-ad2e-49b4-8057-e85c4e56e8e3",
   "metadata": {},
   "outputs": [],
   "source": [
    "from src.file import get_simulation_results_folder\n",
    "from src.pattern import (\n",
    "    get_pattern,\n",
    "    get_possible_words,\n",
    "    pattern_to_int_list,\n",
    "    pattern_to_string,\n",
    "    patterns_to_string,\n",
    ")\n",
    "from src.prior import get_frequency_based_priors, get_true_wordle_prior, get_word_list\n",
    "from src.solver import brute_force_optimal_guess, optimal_guess, get_expected_scores"
   ]
  },
  {
   "cell_type": "code",
   "execution_count": 15,
   "id": "2fd6fecd",
   "metadata": {},
   "outputs": [
    {
     "name": "stdout",
     "output_type": "stream",
     "text": [
      "2315\n"
     ]
    },
    {
     "data": {
      "text/html": [
       "<div>\n",
       "<style scoped>\n",
       "    .dataframe tbody tr th:only-of-type {\n",
       "        vertical-align: middle;\n",
       "    }\n",
       "\n",
       "    .dataframe tbody tr th {\n",
       "        vertical-align: top;\n",
       "    }\n",
       "\n",
       "    .dataframe thead th {\n",
       "        text-align: right;\n",
       "    }\n",
       "</style>\n",
       "<table border=\"1\" class=\"dataframe\">\n",
       "  <thead>\n",
       "    <tr style=\"text-align: right;\">\n",
       "      <th></th>\n",
       "      <th>word</th>\n",
       "      <th>day</th>\n",
       "    </tr>\n",
       "  </thead>\n",
       "  <tbody>\n",
       "    <tr>\n",
       "      <th>0</th>\n",
       "      <td>cigar</td>\n",
       "      <td>0</td>\n",
       "    </tr>\n",
       "    <tr>\n",
       "      <th>1</th>\n",
       "      <td>rebut</td>\n",
       "      <td>1</td>\n",
       "    </tr>\n",
       "    <tr>\n",
       "      <th>2</th>\n",
       "      <td>sissy</td>\n",
       "      <td>2</td>\n",
       "    </tr>\n",
       "    <tr>\n",
       "      <th>3</th>\n",
       "      <td>humph</td>\n",
       "      <td>3</td>\n",
       "    </tr>\n",
       "    <tr>\n",
       "      <th>4</th>\n",
       "      <td>awake</td>\n",
       "      <td>4</td>\n",
       "    </tr>\n",
       "  </tbody>\n",
       "</table>\n",
       "</div>"
      ],
      "text/plain": [
       "    word  day\n",
       "0  cigar    0\n",
       "1  rebut    1\n",
       "2  sissy    2\n",
       "3  humph    3\n",
       "4  awake    4"
      ]
     },
     "execution_count": 15,
     "metadata": {},
     "output_type": "execute_result"
    }
   ],
   "source": [
    "allowed_words = get_word_list(\"wordle\", short=True)\n",
    "possible_words = get_word_list(\"wordle\")\n",
    "\n",
    "word_list = pd.DataFrame(allowed_words, columns=[\"word\"], index=None)\n",
    "word_list[\"day\"] = [i for i in range(0, 2315)]\n",
    "\n",
    "print(len(word_list))\n",
    "word_list.head()"
   ]
  },
  {
   "cell_type": "code",
   "execution_count": 16,
   "id": "76ca412a-0e53-4456-9097-aeb7bde804ba",
   "metadata": {},
   "outputs": [],
   "source": [
    "next_guess_map = {}\n",
    "\n",
    "def get_next_guess(guesses, \n",
    "                   patterns, \n",
    "                   possibilities, \n",
    "                   priors,\n",
    "                   hard_mode = False, \n",
    "                   look_two_ahead = False,\n",
    "                   purely_maximize_information = False,\n",
    "                   optimize_for_uniform_distribution = False\n",
    "                  ):\n",
    "    \n",
    "        phash = \"\".join(\n",
    "            str(g) + \"\".join(map(str, pattern_to_int_list(p)))\n",
    "            for g, p in zip(guesses, patterns, strict=True)\n",
    "        )\n",
    "    \n",
    "        if phash not in next_guess_map:\n",
    "            choices = possible_words\n",
    "            if hard_mode:\n",
    "                for guess, pattern in zip(guesses, patterns, strict=True):\n",
    "                    choices = get_possible_words(guess, pattern, choices, \"wordle\")\n",
    "\n",
    "            next_guess_map[phash] = optimal_guess(\n",
    "                choices,\n",
    "                possibilities,\n",
    "                priors,\n",
    "                \"wordle\",\n",
    "                look_two_ahead=look_two_ahead,\n",
    "                purely_maximize_information=purely_maximize_information,\n",
    "                optimize_for_uniform_distribution=optimize_for_uniform_distribution,\n",
    "            )\n",
    "            \n",
    "        return next_guess_map[phash]"
   ]
  },
  {
   "cell_type": "code",
   "execution_count": 34,
   "id": "96477a37-cf43-47ed-a302-0766c40e2794",
   "metadata": {},
   "outputs": [],
   "source": [
    "# Class that represents information about, and the ability to play a single game of Wordle\n",
    "class game:\n",
    "    \n",
    "    # Initialize \n",
    "    def __init__(self): \n",
    "        self.set_game() # This sets game word and number\n",
    "        self.results = []\n",
    "        self.attempts = 0\n",
    "\n",
    "    # Set game based on Wordle number\n",
    "    def set_game(self, number = -1):    # Randomize by default\n",
    "\n",
    "        if(number < 0 or number > 2315):     \n",
    "            self.word = word_list.sample(n=1).iloc[0][\"word\"]\n",
    "            self.date = word_list[word_list[\"word\"] == self.word].iloc[0][\"day\"]\n",
    "        else:\n",
    "            self.word = word_list[word_list[\"day\"] == number].iloc[0][\"word\"]   # Randomize on invalid number or input\n",
    "            self.date = number\n",
    "\n",
    "    def __str__(self):\n",
    "        return f\"{self.word}: guessed in {self.attempts} tries: \\n{self.results}\\n\"\n",
    "    \n",
    "    # A game of Wordle\n",
    "    def play(self,\n",
    "             hard_mode = False, \n",
    "             look_two_ahead = False,\n",
    "             purely_maximize_information = False,\n",
    "             optimize_for_uniform_distribution = False\n",
    "            ):\n",
    "        \n",
    "        solved = False\n",
    "\n",
    "        priors = get_frequency_based_priors(\"wordle\")\n",
    "        patterns = []\n",
    "        possibility_counts = []\n",
    "        possibilities = list(filter(lambda w: priors[w] > 0, possible_words))\n",
    "        \n",
    "        while (self.attempts < 6 and solved == False): # 6 tries\n",
    "\n",
    "            counts = Counter(self.word) # Get counts of each character in the word\n",
    "            guess = input(f\"Enter a word for guess {self.attempts + 1}:\").lower()\n",
    "                \n",
    "            if not(guess.isalpha()) or len(guess) != 5: # Invalid string (not a word)\n",
    "                print(\"Invalid guess format. Guess must contain only alphabetical characters and be 5 characters long.\")\n",
    "            elif guess not in possible_words: # Word not in list of existing Wordle answers\n",
    "                print(\"Word not recognized.\")\n",
    "                \n",
    "            else:\n",
    "                \n",
    "                pattern = get_pattern(guess, self.word, \"wordle\")\n",
    "                print('\\n', pattern_to_string(pattern))\n",
    "                \n",
    "                self.results.append(guess)\n",
    "                patterns.append(pattern)\n",
    "                possibilities = get_possible_words(guess, pattern, possibilities, \"wordle\")\n",
    "                possibility_counts.append(len(possibilities))\n",
    "                \n",
    "                if(guess == self.word):\n",
    "                    solved = True\n",
    "\n",
    "                if not solved:\n",
    "                    \n",
    "                    hint = get_next_guess(self.results, \n",
    "                                          patterns, \n",
    "                                          possibilities, \n",
    "                                          priors, \n",
    "                                          hard_mode, \n",
    "                                          look_two_ahead, \n",
    "                                          purely_maximize_information, \n",
    "                                          optimize_for_uniform_distribution\n",
    "                                         )\n",
    "                    \n",
    "                    print(f\"\\n{possibility_counts[-1]} possibilities:\", possibilities, \"\\n\")\n",
    "                    print(\"HINT:\", hint)\n",
    "                \n",
    "                self.attempts += 1\n",
    "\n",
    "        if solved:\n",
    "            congrats = [\"Genius\", \"Magnificent\", \"Impressive\", \"Splendid\", \"Great\", \"Phew\"]\n",
    "            print(congrats[self.attempts - 1])  # Print corresponding congratulatory message like real Wordle\n",
    "        else:\n",
    "            self.attempts += 1          # Add attempt to make a loss count as 7 attempts\n",
    "            print(self.word.upper())    # Reveal solution"
   ]
  },
  {
   "cell_type": "code",
   "execution_count": 32,
   "id": "056464ce-8f31-45fc-8c58-57dd929c01da",
   "metadata": {},
   "outputs": [
    {
     "name": "stdin",
     "output_type": "stream",
     "text": [
      "Enter a word for guess 1: crane\n"
     ]
    },
    {
     "name": "stdout",
     "output_type": "stream",
     "text": [
      "\n",
      " 🟩🟨🟨⬛⬛\n",
      "\n",
      "35 possibilities:\n",
      "\n",
      "HINT: sabot\n",
      "SCORE: 3.83 \n",
      "\n"
     ]
    },
    {
     "name": "stdin",
     "output_type": "stream",
     "text": [
      "Enter a word for guess 2: sabot\n"
     ]
    },
    {
     "name": "stdout",
     "output_type": "stream",
     "text": [
      "\n",
      " ⬛🟨⬛⬛⬛\n",
      "Score: 0\n",
      "\n",
      "5 possibilities:\n",
      "\n",
      "HINT: cigar\n",
      "SCORE: 3.83 \n",
      "\n"
     ]
    },
    {
     "name": "stdin",
     "output_type": "stream",
     "text": [
      "Enter a word for guess 3: cigar\n"
     ]
    },
    {
     "name": "stdout",
     "output_type": "stream",
     "text": [
      "\n",
      " 🟩🟩🟩🟩🟩\n",
      "Impressive\n"
     ]
    }
   ],
   "source": [
    "new_game = game()\n",
    "new_game.set_game(number=0) # Word is \"cigar\"\n",
    "new_game.play()"
   ]
  },
  {
   "cell_type": "code",
   "execution_count": 15,
   "id": "b53fa9fc",
   "metadata": {},
   "outputs": [],
   "source": [
    "# Class that represents a Wordle application as a whole\n",
    "class wordle:\n",
    "    \n",
    "    # Initialize\n",
    "    def __init__(self):\n",
    "        self.games = []\n",
    "        self.streaks = {1: 0, 2: 0, 3: 0, 4: 0, 5: 0, 6: 0}\n",
    "\n",
    "    # Print all previously played games\n",
    "    def history(self):\n",
    "        for item in self.games:\n",
    "            print(item)\n",
    "\n",
    "    # Print streaks\n",
    "    def records(self):\n",
    "        return [ print(f\"{key}: {value}\") for key, value in self.streaks.items() ]\n",
    "    \n",
    "    # Update streaks\n",
    "    def add_win(self, tries):\n",
    "        self.streaks[tries] = self.streaks[tries] + 1\n",
    "\n",
    "    # Reset streaks\n",
    "    def reset(self):\n",
    "        self.streaks = {1: 0, 2: 0, 3: 0, 4: 0, 5: 0, 6: 0}\n",
    "\n",
    "    # Play a Wordle game and save stats afterwards\n",
    "    def play_wordle(self):\n",
    "        new_game = game()\n",
    "        \n",
    "        # Choose Wordle number\n",
    "        date = input(\"Enter the game number you want to play:\") \n",
    "        if date.isdigit() and int(date) >= 0 and int(date) <= 2314:\n",
    "            new_game.set_game(number = int(date))\n",
    "        else:\n",
    "            print(\"Invalid input, choosing a random game.\")\n",
    "            new_game.set_game()\n",
    "\n",
    "        # Play game\n",
    "        new_game.play()\n",
    "        self.games.append(new_game)\n",
    "        \n",
    "        if(new_game.attempts < 6):\n",
    "            self.add_win(new_game.attempts) # Game won\n",
    "        else:\n",
    "            self.reset() # Game lost, reset streaks"
   ]
  },
  {
   "cell_type": "code",
   "execution_count": 6,
   "id": "bb9e00cd",
   "metadata": {},
   "outputs": [],
   "source": [
    "# Create a Wordle instance\n",
    "my_session = wordle() \n",
    "\n",
    "# Data is re-initialized whenever this is run!"
   ]
  },
  {
   "cell_type": "code",
   "execution_count": 7,
   "id": "245f0662",
   "metadata": {},
   "outputs": [
    {
     "name": "stdout",
     "output_type": "stream",
     "text": [
      "cigar \n",
      " 🟩 🟩 🟩 🟩 🟩 \n",
      "Genius\n",
      "\n",
      "Game history:\n",
      "\n",
      "cigar: guessed in 1 tries: \n",
      "['cigar']\n",
      "\n",
      "Streaks:\n",
      "1: 1\n",
      "2: 0\n",
      "3: 0\n",
      "4: 0\n",
      "5: 0\n",
      "6: 0\n"
     ]
    },
    {
     "data": {
      "text/plain": [
       "[None, None, None, None, None, None]"
      ]
     },
     "execution_count": 7,
     "metadata": {},
     "output_type": "execute_result"
    }
   ],
   "source": [
    "my_session.play_wordle() # Play a game of Wordle\n",
    "\n",
    "print('\\nGame history:\\n') # View past games\n",
    "my_session.history()\n",
    "\n",
    "print('Streaks:') # View streaks\n",
    "my_session.records()"
   ]
  }
 ],
 "metadata": {
  "kernelspec": {
   "display_name": "Python 3 (ipykernel)",
   "language": "python",
   "name": "python3"
  },
  "language_info": {
   "codemirror_mode": {
    "name": "ipython",
    "version": 3
   },
   "file_extension": ".py",
   "mimetype": "text/x-python",
   "name": "python",
   "nbconvert_exporter": "python",
   "pygments_lexer": "ipython3",
   "version": "3.11.9"
  }
 },
 "nbformat": 4,
 "nbformat_minor": 5
}
